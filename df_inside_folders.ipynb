{
 "cells": [
  {
   "cell_type": "markdown",
   "id": "77a5f937-3b02-4bc5-a9fd-d30583cf115c",
   "metadata": {},
   "source": [
    "# DataFrame Inside Different Folders with Python"
   ]
  },
  {
   "cell_type": "code",
   "execution_count": 1,
   "id": "2a6894d6-5501-40e2-bc4c-36e3f730e0bd",
   "metadata": {},
   "outputs": [],
   "source": [
    "import pandas as pd\n",
    "import numpy as np\n",
    "from datetime import datetime, timedelta, date\n",
    "from os import listdir\n",
    "import re"
   ]
  },
  {
   "cell_type": "code",
   "execution_count": null,
   "id": "e66b4cd5-8fb5-4bf6-b440-9dd288101986",
   "metadata": {},
   "outputs": [],
   "source": [
    "base_path = 'path' # file path"
   ]
  },
  {
   "cell_type": "code",
   "execution_count": null,
   "id": "9a216fea-09f3-4bc0-9ce9-4f3b2425971e",
   "metadata": {},
   "outputs": [],
   "source": [
    "foldernames = listdir(base_path) # list with folder names\n",
    "foldernames"
   ]
  },
  {
   "cell_type": "code",
   "execution_count": null,
   "id": "bbf5b048-1a15-4e27-8e3c-adf2244ee76c",
   "metadata": {},
   "outputs": [],
   "source": [
    "folders1_paths = [base_path + '/' + x for x in foldernames] # list with folders paths inside foldersnames\n",
    "folder1_paths"
   ]
  },
  {
   "cell_type": "code",
   "execution_count": null,
   "id": "cd3b06fc-30fb-4343-9be5-aac1268253ec",
   "metadata": {},
   "outputs": [],
   "source": [
    "df = pd.DataFrame() # to create a dataframe"
   ]
  },
  {
   "cell_type": "markdown",
   "id": "0105aeef-3a8d-45f7-923c-0f8012fd106c",
   "metadata": {},
   "source": [
    "From now on we are working on opening files inside files, getting their paths, standarding/formating the file names and creating two new columns. "
   ]
  },
  {
   "cell_type": "code",
   "execution_count": null,
   "id": "300cb95c-d6be-490f-9290-9ab9916bd4ae",
   "metadata": {},
   "outputs": [],
   "source": [
    "for idx, folder in enumerate(folders1_paths): # List with index and folders' name\n",
    "    folders2 = listdir(folder) # folders' name\n",
    "    folders2_paths = [folder + '/' + x for x in folders2] # creating folder path name\n",
    "    \n",
    "    for folder2 in folders2_paths: # list with folders' names\n",
    "        folders3 = listdir(folder2) # folders' name\n",
    "        files_paths = [folder2 + '/' + y for y in folders3] # folders' path name\n",
    "        \n",
    "        for index, csv_file in enumerate(files_paths):\n",
    "            new_filename = re.sub(' +', ' ', folders3[index]) # standarding files' name format \n",
    "           \n",
    "            if new_filename.split(' ')[3] == 'string_1':\n",
    "                tipo_comissao = new_filename.split(' ')[4] + ' ' + new_filename.split(' ')[5] # creating list based on strings with split method\n",
    "            else:                 \n",
    "                print('There was an error on tipo comissao') \n",
    "            \n",
    "            if new_filename.split(' ')[6] == 'string_2':\n",
    "                tipo_regra = new_filename.split(' ')[7]\n",
    "            \n",
    "            else:\n",
    "                print('There was an error on tipo regra')\n",
    "            \n",
    "            try: \n",
    "                 _df = pd.read_csv(csv_file, sep=';').assign(Comissao = tipo_comissao, Regra = tipo_regra)  # to create 2 columns containing elements from a list \n",
    "                    \n",
    "            \n",
    "            \n",
    "            except:\n",
    "                \n",
    "                _df = pd.read_csv(csv_file, encoding='latin-1', sep=';').assign(Comissao = tipo_comissao, Regra = tipo_regra)\n",
    "                \n",
    "                path = 'local_files_path' + '/' + new_filename[:-4] + '.xlsx'\n",
    "                \n",
    "                _df.to_excel(path)\n",
    "                \n",
    "            \n",
    "            _df = _df.assign(file_type = new_filename, folder_type = foldernames[idx]) # to create 2 more columns containing the origin folder and origin file\n",
    "    \n",
    "             \n",
    "            try:\n",
    "                df = pd.concat([df, _df], ignore_index = True) # concat both dataframes\n",
    "                \n",
    "            except:\n",
    "                \n",
    "                print('There was a problem')\n",
    "    \n",
    "        "
   ]
  },
  {
   "cell_type": "code",
   "execution_count": null,
   "id": "d9284cc8-3df3-48cd-bfe3-46e2678548bb",
   "metadata": {},
   "outputs": [],
   "source": [
    "df['folder_type'].unique() # list with directory in folder_type "
   ]
  },
  {
   "cell_type": "code",
   "execution_count": null,
   "id": "2f5643a6-c2f7-4747-974c-6c38470cefe5",
   "metadata": {},
   "outputs": [],
   "source": [
    "df_pagamento = df[df['folder_type'] == df['folder_type'].unique()[0]].copy() # part of the dataframe that corresponds to 'pagamento' folder"
   ]
  },
  {
   "cell_type": "code",
   "execution_count": null,
   "id": "4f513f3d-8cfb-4cbb-ad20-3d51fadce5d6",
   "metadata": {},
   "outputs": [],
   "source": [
    "df_pagamento.to_csv('./Pagamento.csv', index = False) # export to a csv file "
   ]
  },
  {
   "cell_type": "code",
   "execution_count": null,
   "id": "4347e004-3691-45d8-85dc-37fb6543c3cd",
   "metadata": {},
   "outputs": [],
   "source": [
    "df_vendedor = df[df['folder_type'] == df['folder_type'].unique()[1]].copy() # part of the dataframe that corresponds to 'vendedor' folder"
   ]
  },
  {
   "cell_type": "code",
   "execution_count": null,
   "id": "af5cffa5-4f29-4ece-af49-53e2c21611e7",
   "metadata": {},
   "outputs": [],
   "source": [
    "df_vendedor.to_csv('./Vendedor.csv', index = False) # export to a csv file "
   ]
  },
  {
   "cell_type": "code",
   "execution_count": null,
   "id": "eb6044f0-cd02-40b1-8378-fc05d18123d4",
   "metadata": {},
   "outputs": [],
   "source": [
    "df_empresa = df[df['folder_type'] == df['folder_type'].unique()[2]].copy() # part of the dataframe that corresponds to 'empresa' folder"
   ]
  },
  {
   "cell_type": "code",
   "execution_count": null,
   "id": "06580ba0-ab5a-4a75-b961-c40614eb09d1",
   "metadata": {},
   "outputs": [],
   "source": [
    "df_empresa.to_csv('./Empresa.csv', index = False) # export to a csv file "
   ]
  }
 ],
 "metadata": {
  "kernelspec": {
   "display_name": "Python 3 (ipykernel)",
   "language": "python",
   "name": "python3"
  },
  "language_info": {
   "codemirror_mode": {
    "name": "ipython",
    "version": 3
   },
   "file_extension": ".py",
   "mimetype": "text/x-python",
   "name": "python",
   "nbconvert_exporter": "python",
   "pygments_lexer": "ipython3",
   "version": "3.9.13"
  }
 },
 "nbformat": 4,
 "nbformat_minor": 5
}
